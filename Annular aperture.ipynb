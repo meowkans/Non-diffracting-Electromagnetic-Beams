{
 "cells": [
  {
   "cell_type": "markdown",
   "id": "f975c7ce",
   "metadata": {},
   "source": [
    "## Annular aperture \n"
   ]
  },
  {
   "cell_type": "code",
   "execution_count": 1,
   "id": "e1ed136b",
   "metadata": {},
   "outputs": [],
   "source": [
    "import numpy as np\n",
    "import matplotlib.pyplot as plt\n",
    "import scipy.special as sp\n",
    "from scipy.integrate import cumtrapz,simps\n",
    "import numpy as np\n",
    "from scipy import interpolate\n",
    "from scipy.fft import fft2,ifft2,fftfreq,fftshift\n",
    "import imageio\n",
    "import scipy.special as sp\n",
    "\n",
    "import pint\n",
    "\n",
    "u = pint.UnitRegistry()"
   ]
  },
  {
   "cell_type": "markdown",
   "id": "3605200f",
   "metadata": {},
   "source": [
    "We find out diffraction pattern of annular aperture at various z distances from aperture by compute_U function"
   ]
  },
  {
   "cell_type": "code",
   "execution_count": 2,
   "id": "c164f5a3",
   "metadata": {},
   "outputs": [],
   "source": [
    "def compute_U(xv, yv, lam, z):\n",
    "    \n",
    "    # defining annular aperture of inner radius 2.85mm and outer radius 3mm\n",
    "    U00 = np.heaviside(R+3,1)-np.heaviside(R-3,1) - (np.heaviside(R+2.85,1)-np.heaviside(R-2.85,1))\n",
    "    U0 = U00\n",
    "    \n",
    "    \n",
    "    # beam propagation using angular spectrum method\n",
    "    A = fft2(U0)\n",
    "    kx = 2*np.pi * fftfreq(len(x), np.diff(x)[0])\n",
    "    kxv, kyv = np.meshgrid(kx,kx)\n",
    "    k = 2*np.pi/lam\n",
    "    ans =  ifft2(A*np.exp(1j*z*np.sqrt(k**2-kxv**2-kyv**2)))\n",
    "    return (np.abs(ans))**2\n",
    "# this function returns intensity of propagated beam at meshgrid points xv,yv at z distance away from annular aperture\n"
   ]
  },
  {
   "cell_type": "code",
   "execution_count": 3,
   "id": "56e13823",
   "metadata": {
    "scrolled": true
   },
   "outputs": [
    {
     "name": "stdout",
     "output_type": "stream",
     "text": [
      "(2000,)\n"
     ]
    }
   ],
   "source": [
    "lam = 660 * 10**(-6)     #defining wavelength of the beam used (660 nm)\n",
    "\n",
    "x = np.linspace(-5,5,2000)  \n",
    "xv, yv = np.meshgrid(x, x)  # defining 2d meshgrid points\n",
    "\n",
    "R = np.sqrt(xv**2+yv**2)    # radial distance \n",
    "U0 = np.heaviside(R+3,1)-np.heaviside(R-3,1)  #defining 3mm aperture\n",
    "U0 = U0.astype(float)\n",
    "print(x.shape)"
   ]
  },
  {
   "cell_type": "markdown",
   "id": "0dedde0e",
   "metadata": {},
   "source": [
    "Plotting aperture using compute_U function defined earlier"
   ]
  },
  {
   "cell_type": "code",
   "execution_count": 4,
   "id": "978a13f1",
   "metadata": {},
   "outputs": [],
   "source": [
    "U = compute_U(xv, yv, lam, z=0)"
   ]
  },
  {
   "cell_type": "code",
   "execution_count": 5,
   "id": "59c1368f",
   "metadata": {},
   "outputs": [
    {
     "name": "stderr",
     "output_type": "stream",
     "text": [
      "/home/kanan/.local/lib/python3.6/site-packages/ipykernel_launcher.py:2: MatplotlibDeprecationWarning: shading='flat' when X and Y have the same dimensions as C is deprecated since 3.3.  Either specify the corners of the quadrilaterals with X and Y, or pass shading='auto', 'nearest' or 'gouraud', or set rcParams['pcolor.shading'].  This will become an error two minor releases later.\n",
      "  \n"
     ]
    },
    {
     "data": {
      "image/png": "[encoded data removed]",
      "text/plain": [
       "<Figure size 360x360 with 1 Axes>"
      ]
     },
     "metadata": {
      "needs_background": "light"
     },
     "output_type": "display_data"
    }
   ],
   "source": [
    "plt.figure(figsize=(5,5))\n",
    "plt.pcolormesh(xv,yv,np.abs(U), cmap='inferno')\n",
    "plt.xlabel('X-Position [mm]')\n",
    "plt.ylabel('Y-Position [mm]')\n",
    "plt.show()\n"
   ]
  },
  {
   "cell_type": "code",
   "execution_count": 6,
   "id": "fb593796",
   "metadata": {},
   "outputs": [],
   "source": [
    "k = np.arange(0,2000,1)"
   ]
  },
  {
   "cell_type": "markdown",
   "id": "152ef58b",
   "metadata": {},
   "source": [
    "on axis intensity (normalized to 1 at z=100cm where we start observing bessel beam)"
   ]
  },
  {
   "cell_type": "code",
   "execution_count": 7,
   "id": "c5eab545",
   "metadata": {},
   "outputs": [
    {
     "name": "stdout",
     "output_type": "stream",
     "text": [
      "[0.08707508184937623, 0.3157582896083433, 0.5831073900565138, 0.17287253720594528, 0.7477519489958421, 0.7822677541870322, 0.01939005741079457, 0.0012730893626078483, 0.082308631062259, 0.41212036448361145, 1.0, 1.3999752574015172, 1.4780425005471423, 1.5079496498095026, 1.4590849749179235, 1.4972904687635071, 1.2031837296195254, 1.4382351186999545, 1.4079898024591033, 0.7017133629554054, 0.9225999520214532, 0.736644839632665, 0.8121055401594703, 0.6244789731647145, 0.48652238009396687, 0.38774318545183195, 0.44170100982839516, 0.49173775056589025, 0.26177440361137466, 0.40309894827841236, 0.25115497656423724, 0.26843109090352624, 0.4290169657102776, 0.20167211610742294, 0.17934426357349195, 0.20250552178419476, 0.20247086980397372, 0.10271336564852042, 0.0570458954783858, 0.17011608861619482, 0.18830447207325, 0.21821562482594375, 0.03881439239981525, 0.057191492822691155, 0.07972583781385596, 0.11011053450425089, 0.10183094920830973, 0.07551889905363234, 0.05293862953488712, 0.029629329949773905, 0.06994707119121624, 0.026955670855573852, 0.11694918383732232, 0.0825843493976865, 0.0706533135147981, 0.06657052263112462, 0.06900772713178857, 0.029000418778029637, 0.018326330709438895, 0.021422234800397576, 0.03817003763095296, 0.050592884142699864, 0.035462993152709836, 0.07198498729640701]\n",
      "1.0\n"
     ]
    }
   ],
   "source": [
    "L = []\n",
    "lam = 660*10**(-6)\n",
    "for z in range(0,6400,100):\n",
    "    c = compute_U(xv,yv,lam,z)\n",
    "    L.append(max((c[1000][:])**2)/11.484341774490833)\n",
    "print(L)\n",
    "print(L[10])"
   ]
  },
  {
   "cell_type": "markdown",
   "id": "fef27544",
   "metadata": {},
   "source": [
    "### plotting on axis intensity as a function of distance z from aperture"
   ]
  },
  {
   "cell_type": "code",
   "execution_count": 8,
   "id": "2b37ea26",
   "metadata": {},
   "outputs": [
    {
     "data": {
      "image/png": "[encoded data removed]",
      "text/plain": [
       "<Figure size 432x288 with 1 Axes>"
      ]
     },
     "metadata": {
      "needs_background": "light"
     },
     "output_type": "display_data"
    }
   ],
   "source": [
    "kk = range(0,640,10)\n",
    "plt.plot(kk,L)\n",
    "\n",
    "plt.xlabel('z in cm')\n",
    "plt.ylabel('on axis intensity')\n",
    "plt.grid()\n",
    "plt.show()"
   ]
  },
  {
   "cell_type": "markdown",
   "id": "90ed355a",
   "metadata": {},
   "source": [
    "### calculating power contained within 3 mm radius (aperture size) from axis"
   ]
  },
  {
   "cell_type": "code",
   "execution_count": 9,
   "id": "755ff7f9",
   "metadata": {
    "scrolled": true
   },
   "outputs": [
    {
     "name": "stdout",
     "output_type": "stream",
     "text": [
      "1.0\n",
      "0.6619522458292565\n",
      "0.5811766850287953\n",
      "0.5524523810438514\n",
      "0.535401159229201\n",
      "0.5271086600365656\n",
      "0.5182226399342182\n",
      "0.5161862763330715\n",
      "0.5133578299474544\n",
      "0.5041981876883277\n",
      "0.49675627227873564\n",
      "0.493575864420965\n",
      "0.4912392498890484\n",
      "0.49023556732918955\n",
      "0.4907843327279234\n",
      "0.4937147302623921\n",
      "0.4975787181322989\n",
      "0.4988788745528095\n",
      "0.4957986849201078\n",
      "0.4928814768370628\n",
      "0.4932583979958769\n",
      "0.4919275018325751\n",
      "0.48547440433877526\n",
      "0.48973876404248184\n",
      "0.47713077797038517\n",
      "0.48024460572219757\n",
      "0.4730113108864693\n",
      "0.4664271904044786\n",
      "0.47036190392811233\n",
      "0.45725518351545447\n",
      "0.4509691189354603\n",
      "0.45572367136667924\n",
      "0.4480763785180553\n",
      "0.4389729049918209\n",
      "0.43759567963496937\n",
      "0.44285653254291346\n",
      "0.43829878892491453\n",
      "0.4268165035274086\n",
      "0.41982495746973225\n",
      "0.41979313472922897\n",
      "0.42246463073068363\n",
      "0.42328909272329746\n",
      "0.4170521043455181\n",
      "0.40578792923558643\n",
      "0.40193443480912566\n",
      "0.40222767657891667\n",
      "0.4026153710687647\n",
      "0.40695885786322844\n",
      "0.40802145403875384\n",
      "0.40726126320584255\n",
      "0.40077943049516807\n",
      "0.39090568559184447\n",
      "0.38477972152096934\n",
      "0.3822897549627612\n",
      "0.3802236111089731\n",
      "0.3800691452316723\n",
      "0.3835442064376721\n",
      "0.3851335049780497\n",
      "0.3860938913119117\n",
      "0.38231169676496074\n",
      "0.3806065725974378\n",
      "0.3805537578031247\n",
      "0.3769888723868038\n",
      "0.37378489142092186\n"
     ]
    }
   ],
   "source": [
    "h = 10/2000\n",
    "lam = 660*10**(-6)\n",
    "l = []\n",
    "def uu(xv,yv):\n",
    "     return (np.heaviside(np.sqrt(xv**2+yv**2)+3,1)-np.heaviside(np.sqrt(xv**2+yv**2)-3,1))\n",
    "for z in range(0,6400,100):\n",
    "    u = compute_U(xv,yv,lam,z)*uu(xv,yv)       \n",
    "    a = 0\n",
    "    for i in k:\n",
    "        for j in k:\n",
    "            a += h*h*(u[i][j])\n",
    "    print(a/2.7546999999969146)\n",
    "    l.append(a/2.7546999999969146)"
   ]
  },
  {
   "cell_type": "markdown",
   "id": "5ee65865",
   "metadata": {},
   "source": [
    "### plotting power within 3mm radius as function of distance"
   ]
  },
  {
   "cell_type": "code",
   "execution_count": 10,
   "id": "dbda26a8",
   "metadata": {},
   "outputs": [
    {
     "data": {
      "image/png": "[encoded data removed]",
      "text/plain": [
       "<Figure size 432x288 with 1 Axes>"
      ]
     },
     "metadata": {
      "needs_background": "light"
     },
     "output_type": "display_data"
    }
   ],
   "source": [
    "kk = range(0,640,10)\n",
    "plt.plot(kk,l)\n",
    "plt.xlabel('propagation distance z(cm)')\n",
    "plt.ylabel('power within r<3 mm')\n",
    "#plt.title('annular aperture power plot')\n",
    "plt.xlim(0,600)\n",
    "plt.grid()\n",
    "plt.show()"
   ]
  },
  {
   "cell_type": "code",
   "execution_count": null,
   "id": "044c220e",
   "metadata": {},
   "outputs": [],
   "source": []
  }
 ],
 "metadata": {
  "kernelspec": {
   "display_name": "Python 3",
   "language": "python",
   "name": "python3"
  },
  "language_info": {
   "codemirror_mode": {
    "name": "ipython",
    "version": 3
   },
   "file_extension": ".py",
   "mimetype": "text/x-python",
   "name": "python",
   "nbconvert_exporter": "python",
   "pygments_lexer": "ipython3",
   "version": "3.6.9"
  }
 },
 "nbformat": 4,
 "nbformat_minor": 5
}
